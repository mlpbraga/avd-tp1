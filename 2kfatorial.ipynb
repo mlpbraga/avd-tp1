{
 "cells": [
  {
   "cell_type": "markdown",
   "metadata": {},
   "source": [
    "## Projeto de Experimento 2ˆk Fatorial\n",
    "\n",
    "O intuito desse algoritmo é mostrar qual a relevância de cada fator utilizado para realizar os experimentos. "
   ]
  },
  {
   "cell_type": "code",
   "execution_count": 1,
   "metadata": {},
   "outputs": [],
   "source": [
    "import pandas as pd\n",
    "import numpy as np\n",
    "import itertools as it\n",
    "from uteis import *\n",
    "\n",
    "s = {\n",
    "    2:['A', 'B'],\n",
    "    3:['A', 'B', 'C'],\n",
    "    4:['A', 'B', 'C', 'D']\n",
    "}"
   ]
  },
  {
   "cell_type": "code",
   "execution_count": 2,
   "metadata": {},
   "outputs": [
    {
     "name": "stdout",
     "output_type": "stream",
     "text": [
      "Insira o número de fatores utilizados: 2\n",
      "\n",
      "\u001b[94mLista de valores [max,min] utilizados para o fator A\u001b[0m\n",
      ": 16,4\n",
      "\u001b[94mLista de valores [max,min] utilizados para o fator B\u001b[0m\n",
      ": 2,1\n",
      "\n",
      "\u001b[94mQual o valor de Y para os seguintes valores: \n",
      "\u001b[93mA = 16 ; \u001b[93mB = 2 ; Y : 75\n",
      "\u001b[94mQual o valor de Y para os seguintes valores: \n",
      "\u001b[93mA = 16 ; \u001b[93mB = 1 ; Y : 45\n",
      "\u001b[94mQual o valor de Y para os seguintes valores: \n",
      "\u001b[93mA = 4 ; \u001b[93mB = 2 ; Y : 25\n",
      "\u001b[94mQual o valor de Y para os seguintes valores: \n",
      "\u001b[93mA = 4 ; \u001b[93mB = 1 ; Y : 15\n",
      "\n",
      "\u001b[92mO desempenho médio é: 40.0 MIPS\n",
      "\u001b[92mO efeito do fator A é: 20.0 MIPS\n",
      "\u001b[92mO efeito do fator B é: 10.0 MIPS\n",
      "\u001b[92mO a interação entre ['A', 'B'] contribuí com: 5.0 MIPS\n",
      "\n",
      "\u001b[92mA porcentagem de relevância de cada fator é:\n",
      "\u001b[92mFator A : 76%\n",
      "\u001b[92mFator B : 19%\n",
      "\u001b[92mCombinação ['A', 'B'] : 5%\n"
     ]
    }
   ],
   "source": [
    "def main_interativa():\n",
    "    num_fatores = int(input('\\33[94mInsira o número de fatores utilizados: '))\n",
    "    print('')\n",
    "    nomes_fatores = []\n",
    "\n",
    "    if num_fatores in s:\n",
    "        nomes_fatores = s[num_fatores]\n",
    "    \n",
    "    valores_fatores = []\n",
    "    for nome in nomes_fatores:\n",
    "        print('\\33[94mLista de valores [max,min] utilizados para o fator {0}\\33[0m'.format(nome))\n",
    "        fator = input(': ')\n",
    "        fator = fator.strip('[').strip(']').split(',')\n",
    "        fator = [int(x) for x in fator]\n",
    "        valores_fatores.append(fator)\n",
    "    \n",
    "    print('')\n",
    "    \n",
    "    if num_fatores == 2:\n",
    "        matriz_valores, matriz_uns = dois_fatores(valores_fatores)\n",
    "    elif num_fatores == 3:\n",
    "        matriz_valores, matriz_uns = tres_fatores(valores_fatores)\n",
    "    elif num_fatores == 4:\n",
    "        matriz_valores, matriz_uns = quatro_fatores(valores_fatores)\n",
    "        \n",
    "    resultados_y = recebe_y(matriz_valores, nomes_fatores)\n",
    "    print('')\n",
    "    \n",
    "    matriz_valores['Y'] = resultados_y\n",
    "    matriz_uns['Y'] = resultados_y\n",
    "    \n",
    "    q = calcula_q(resultados_y, matriz_uns, nomes_fatores, num_fatores)  \n",
    "     \n",
    "    sistema_eq = gera_sistema_eq(matriz_uns,q,nomes_fatores,num_fatores)\n",
    "    \n",
    "    importancias(q, nomes_fatores)\n",
    "    print('')\n",
    "    porcents = calcula_porcentagens(q, num_fatores)\n",
    "    \n",
    "    imprime_porcentagens(porcents, nomes_fatores)\n",
    "    print('\\33[0m')\n",
    "    return matriz_valores, matriz_uns, q, sistema_eq\n",
    "\n",
    "m, n, q, seq = main_interativa()"
   ]
  },
  {
   "cell_type": "code",
   "execution_count": 3,
   "metadata": {},
   "outputs": [
    {
     "data": {
      "text/html": [
       "<div>\n",
       "<style scoped>\n",
       "    .dataframe tbody tr th:only-of-type {\n",
       "        vertical-align: middle;\n",
       "    }\n",
       "\n",
       "    .dataframe tbody tr th {\n",
       "        vertical-align: top;\n",
       "    }\n",
       "\n",
       "    .dataframe thead th {\n",
       "        text-align: right;\n",
       "    }\n",
       "</style>\n",
       "<table border=\"1\" class=\"dataframe\">\n",
       "  <thead>\n",
       "    <tr style=\"text-align: right;\">\n",
       "      <th></th>\n",
       "      <th>A</th>\n",
       "      <th>B</th>\n",
       "      <th>Y</th>\n",
       "    </tr>\n",
       "  </thead>\n",
       "  <tbody>\n",
       "    <tr>\n",
       "      <th>0</th>\n",
       "      <td>1</td>\n",
       "      <td>1</td>\n",
       "      <td>75</td>\n",
       "    </tr>\n",
       "    <tr>\n",
       "      <th>1</th>\n",
       "      <td>1</td>\n",
       "      <td>-1</td>\n",
       "      <td>45</td>\n",
       "    </tr>\n",
       "    <tr>\n",
       "      <th>2</th>\n",
       "      <td>-1</td>\n",
       "      <td>1</td>\n",
       "      <td>25</td>\n",
       "    </tr>\n",
       "    <tr>\n",
       "      <th>3</th>\n",
       "      <td>-1</td>\n",
       "      <td>-1</td>\n",
       "      <td>15</td>\n",
       "    </tr>\n",
       "  </tbody>\n",
       "</table>\n",
       "</div>"
      ],
      "text/plain": [
       "   A  B   Y\n",
       "0  1  1  75\n",
       "1  1 -1  45\n",
       "2 -1  1  25\n",
       "3 -1 -1  15"
      ]
     },
     "execution_count": 3,
     "metadata": {},
     "output_type": "execute_result"
    }
   ],
   "source": [
    "n"
   ]
  },
  {
   "cell_type": "code",
   "execution_count": 4,
   "metadata": {},
   "outputs": [
    {
     "data": {
      "text/plain": [
       "[40.0, 20.0, 10.0, 5.0]"
      ]
     },
     "execution_count": 4,
     "metadata": {},
     "output_type": "execute_result"
    }
   ],
   "source": [
    "q"
   ]
  },
  {
   "cell_type": "code",
   "execution_count": 5,
   "metadata": {},
   "outputs": [
    {
     "data": {
      "text/plain": [
       "[[40.0, 20.0, 10.0, 5.0],\n",
       " [40.0, 20.0, -10.0, -5.0],\n",
       " [40.0, -20.0, 10.0, -5.0],\n",
       " [40.0, -20.0, -10.0, 5.0]]"
      ]
     },
     "execution_count": 5,
     "metadata": {},
     "output_type": "execute_result"
    }
   ],
   "source": [
    "seq"
   ]
  },
  {
   "cell_type": "code",
   "execution_count": null,
   "metadata": {},
   "outputs": [],
   "source": []
  }
 ],
 "metadata": {
  "kernelspec": {
   "display_name": "Python 3",
   "language": "python",
   "name": "python3"
  },
  "language_info": {
   "codemirror_mode": {
    "name": "ipython",
    "version": 3
   },
   "file_extension": ".py",
   "mimetype": "text/x-python",
   "name": "python",
   "nbconvert_exporter": "python",
   "pygments_lexer": "ipython3",
   "version": "3.7.3"
  }
 },
 "nbformat": 4,
 "nbformat_minor": 2
}
