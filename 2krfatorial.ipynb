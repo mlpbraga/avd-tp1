{
 "cells": [
  {
   "cell_type": "markdown",
   "metadata": {},
   "source": [
    "## Projeto de Experimento 2ˆ(k)r Fatorial¶\n",
    "Busca estimar erros experimentais que o Projeto 2^k Fatorial não consegue estimar."
   ]
  },
  {
   "cell_type": "code",
   "execution_count": 1,
   "metadata": {},
   "outputs": [],
   "source": [
    "import pandas as pd\n",
    "import numpy as np\n",
    "import itertools as it\n",
    "import math as m\n",
    "from uteis import *\n",
    "\n",
    "s = {\n",
    "    2:['A', 'B'],\n",
    "    3:['A', 'B', 'C'],\n",
    "    4:['A', 'B', 'C', 'D']\n",
    "}"
   ]
  },
  {
   "cell_type": "code",
   "execution_count": 2,
   "metadata": {},
   "outputs": [
    {
     "name": "stdout",
     "output_type": "stream",
     "text": [
      "Insira o número de fatores utilizados: 2\n",
      "\n",
      "\u001b[94mLista de valores [max,min] utilizados para o fator A\u001b[0m\n",
      ": 16,4\n",
      "\u001b[94mLista de valores [max,min] utilizados para o fator B\u001b[0m\n",
      ": 2,1\n",
      "\n",
      "\u001b[94mQuais os 3 valores de Y (y0,y1,y2) para os seguinte experimento: \n",
      "\u001b[93mA = 16 ; \u001b[93mB = 2 ; Y : 75,75,81\n",
      "\u001b[94mQual era o Y esperado para esse experimento: \n",
      "Y : 77\n",
      "\u001b[94mQuais os 3 valores de Y (y0,y1,y2) para os seguinte experimento: \n",
      "\u001b[93mA = 16 ; \u001b[93mB = 1 ; Y : 45,48,51\n",
      "\u001b[94mQual era o Y esperado para esse experimento: \n",
      "Y : 48\n",
      "\u001b[94mQuais os 3 valores de Y (y0,y1,y2) para os seguinte experimento: \n",
      "\u001b[93mA = 4 ; \u001b[93mB = 2 ; Y : 25,28,19\n",
      "\u001b[94mQual era o Y esperado para esse experimento: \n",
      "Y : 24\n",
      "\u001b[94mQuais os 3 valores de Y (y0,y1,y2) para os seguinte experimento: \n",
      "\u001b[93mA = 4 ; \u001b[93mB = 1 ; Y : 15,18,12\n",
      "\u001b[94mQual era o Y esperado para esse experimento: \n",
      "Y : 15\n",
      "\n",
      "\u001b[92mO desempenho médio é: 41.0 MIPS\n",
      "\u001b[92mO efeito do fator A é: 21.5 MIPS\n",
      "\u001b[92mO efeito do fator B é: 9.5 MIPS\n",
      "\u001b[92mO a interação entre ['A', 'B'] contribuí com: 5.0 MIPS\n",
      "\n",
      "\u001b[92mA porcentagem de relevância de cada fator é:\n",
      "\u001b[92m- Fator A : 77%\n",
      "\u001b[92m- Fator B : 15%\n",
      "\u001b[92m- Combinação ['A', 'B'] : 4%\n"
     ]
    }
   ],
   "source": [
    "def main_interativa():\n",
    "    num_fatores = int(input('\\33[94mInsira o número de fatores utilizados: '))\n",
    "    print('')\n",
    "    nomes_fatores = []\n",
    "\n",
    "    if num_fatores in s:\n",
    "        nomes_fatores = s[num_fatores]\n",
    "    \n",
    "    valores_fatores = []\n",
    "    for nome in nomes_fatores:\n",
    "        print('\\33[94mLista de valores [max,min] utilizados para o fator {0}\\33[0m'.format(nome))\n",
    "        fator = input(': ')\n",
    "        fator = fator.strip('[').strip(']').split(',')\n",
    "        fator = [int(x) for x in fator]\n",
    "        valores_fatores.append(fator)\n",
    "    \n",
    "    print('')\n",
    "    \n",
    "    if num_fatores == 2:\n",
    "        matriz_valores, matriz_uns = dois_fatores(valores_fatores)\n",
    "    elif num_fatores == 3:\n",
    "        matriz_valores, matriz_uns = tres_fatores(valores_fatores)\n",
    "    elif num_fatores == 4:\n",
    "        matriz_valores, matriz_uns = quatro_fatores(valores_fatores)\n",
    "        \n",
    "    resultados_ys_obtidos, resultados_ys_esperados = recebe_ys(matriz_valores, nomes_fatores)\n",
    "    print('')\n",
    "    \n",
    "    erros = calcula_erros(resultados_ys_obtidos,resultados_ys_esperados)\n",
    "    sses = sse(erros)\n",
    "    medias_y = aplica_media_y(resultados_ys_obtidos)\n",
    "    \n",
    "    matriz_valores['Y'] = medias_y\n",
    "    matriz_uns['Y'] = medias_y\n",
    "    matriz_valores['Y^'] = medias_y\n",
    "    matriz_uns['Y^'] = medias_y\n",
    "    \n",
    "    \n",
    "    q = calcula_q(medias_y, matriz_uns, nomes_fatores, num_fatores)  \n",
    "     \n",
    "    sistema_eq = gera_sistema_eq(matriz_uns,q,nomes_fatores,num_fatores)\n",
    "    \n",
    "    importancias(q, nomes_fatores)\n",
    "    print('')\n",
    "    \n",
    "    porcentags = calcula_porcentagens_erro(q, num_fatores, sses)\n",
    "    imprime_porcentagens(porcentags, nomes_fatores)\n",
    "    print('\\33[0m')\n",
    "    return matriz_valores, matriz_uns, q, sistema_eq\n",
    "\n",
    "\n",
    "m, n, q, seq = main_interativa()"
   ]
  },
  {
   "cell_type": "code",
   "execution_count": 3,
   "metadata": {},
   "outputs": [],
   "source": [
    "# 75, 75, 81 \n",
    "# 77\n",
    "# 45, 48, 51\n",
    "# 48\n",
    "# 25, 28, 19\n",
    "# 24\n",
    "# 15, 18, 12\n",
    "# 15"
   ]
  },
  {
   "cell_type": "code",
   "execution_count": null,
   "metadata": {},
   "outputs": [],
   "source": []
  },
  {
   "cell_type": "code",
   "execution_count": null,
   "metadata": {},
   "outputs": [],
   "source": []
  }
 ],
 "metadata": {
  "kernelspec": {
   "display_name": "Python 3",
   "language": "python",
   "name": "python3"
  },
  "language_info": {
   "codemirror_mode": {
    "name": "ipython",
    "version": 3
   },
   "file_extension": ".py",
   "mimetype": "text/x-python",
   "name": "python",
   "nbconvert_exporter": "python",
   "pygments_lexer": "ipython3",
   "version": "3.7.3"
  }
 },
 "nbformat": 4,
 "nbformat_minor": 2
}
