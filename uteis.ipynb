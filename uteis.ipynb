{
 "cells": [
  {
   "cell_type": "code",
   "execution_count": 1,
   "metadata": {},
   "outputs": [],
   "source": [
    "import pandas as pd\n",
    "import numpy as np\n",
    "import itertools as it\n",
    "import math as m"
   ]
  },
  {
   "cell_type": "code",
   "execution_count": 2,
   "metadata": {},
   "outputs": [],
   "source": [
    "def um_menos_um(valor, maximo):\n",
    "    if (valor == maximo):\n",
    "        return 1\n",
    "    else: \n",
    "        return -1"
   ]
  },
  {
   "cell_type": "code",
   "execution_count": 3,
   "metadata": {},
   "outputs": [],
   "source": [
    "def calcula_q(resultados_y, matriz_uns, nomes_fatores, num_fatores):\n",
    "    q = [ 0 for x in range(0,matriz_uns.shape[0])]\n",
    "    q[0] = sum(resultados_y)\n",
    "    aux = 0\n",
    "    for i in range(0, len(nomes_fatores)):\n",
    "        for c, r in matriz_uns.iterrows():\n",
    "            q[i+1] += r[i]*r['Y']\n",
    "            aux = i+2\n",
    "\n",
    "    comb = anagramas(nomes_fatores,num_fatores)\n",
    "    qtd_comb = len(comb)\n",
    "\n",
    "    while qtd_comb > 0:\n",
    "        essa_comb = comb[qtd_comb-1]\n",
    "        for c, r in matriz_uns.iterrows():\n",
    "            pre = 1\n",
    "            for index in essa_comb:\n",
    "                pre*=r[index]\n",
    "            q[aux] += pre*r['Y']\n",
    "        aux += 1\n",
    "        qtd_comb -= 1\n",
    "    return list(map(lambda x : (1/4)*x,q))\n",
    "\n",
    "# calcula_q(resultados_y, n, nomes_fatores, num_fatores)"
   ]
  },
  {
   "cell_type": "code",
   "execution_count": 4,
   "metadata": {},
   "outputs": [],
   "source": [
    "def gera_sistema_eq(matriz_uns,q,nomes_fatores,num_fatores):\n",
    "    fatores = []\n",
    "    comb = anagramas(nomes_fatores,num_fatores)\n",
    "\n",
    "    for c, r in matriz_uns.iterrows():\n",
    "        fator = [q[0]]\n",
    "        for i in range(0,len(nomes_fatores)):\n",
    "            temp = r[nomes_fatores[i]]*q[i+1]\n",
    "            fator.append(temp)\n",
    "            aux = i+2\n",
    "\n",
    "        qtd_comb = 0  \n",
    "\n",
    "        while qtd_comb < len(comb):\n",
    "            atual = comb[qtd_comb]\n",
    "            pre = q[aux]\n",
    "            for index in atual:\n",
    "                pre*=r[index]\n",
    "            fator.append(pre)\n",
    "            aux += 1\n",
    "            qtd_comb += 1\n",
    "\n",
    "        fatores.append(fator)\n",
    "\n",
    "    return fatores\n",
    "\n",
    "# gera_sistema_eq(n,q,nomes_fatores,num_fatores)"
   ]
  },
  {
   "cell_type": "code",
   "execution_count": 5,
   "metadata": {},
   "outputs": [],
   "source": [
    "def anagramas(lista_nomes, num_fatores):\n",
    "    i = num_fatores\n",
    "    combinacoes = []\n",
    "    while i > 1:\n",
    "        aux = [\" \".join(perm).split(' ') for perm in it.combinations(lista_nomes[:i],i)]\n",
    "        combinacoes += aux\n",
    "        i-=1\n",
    "    return combinacoes"
   ]
  },
  {
   "cell_type": "code",
   "execution_count": 6,
   "metadata": {},
   "outputs": [],
   "source": [
    "def dois_fatores(lista_fatores):\n",
    "    #2 fatores\n",
    "\n",
    "    fatorA = lista_fatores[0]\n",
    "    fatorB = lista_fatores[1]\n",
    "\n",
    "    valores = []\n",
    "    for a in fatorA:\n",
    "        for b in fatorB:\n",
    "            valores.append([a,b])\n",
    "            \n",
    "    uns = []\n",
    "    for a in fatorA:\n",
    "        a0 = um_menos_um(a, max(fatorA))\n",
    "        for b in fatorB:\n",
    "            b0 = um_menos_um(b, max(fatorB))\n",
    "            uns.append([a0,b0])\n",
    "    \n",
    "    return pd.DataFrame(valores, columns = ['A', 'B']), pd.DataFrame(uns, columns = ['A', 'B'])\n",
    "\n",
    "# matriz_valores, matriz_uns = dois_fatores([[1,2],[4,16]])"
   ]
  },
  {
   "cell_type": "code",
   "execution_count": 7,
   "metadata": {},
   "outputs": [],
   "source": [
    "def tres_fatores(lista_fatores):\n",
    "    #3 fatores\n",
    "    fatorA = lista_fatores[0]\n",
    "    fatorB = lista_fatores[1]\n",
    "    fatorC = lista_fatores[2]\n",
    "\n",
    "    valores = []\n",
    "    for a in fatorA:\n",
    "        for b in fatorB:\n",
    "            for c in fatorC:\n",
    "                valores.append([a,b,c])\n",
    "    \n",
    "    uns = []\n",
    "    for a in fatorA:\n",
    "        a0 = um_menos_um(a, max(fatorA))\n",
    "        for b in fatorB:\n",
    "            b0 = um_menos_um(b, max(fatorB))\n",
    "            for c in fatorC:\n",
    "                c0 = um_menos_um(c, max(fatorC))\n",
    "                uns.append([a0,b0,c0])\n",
    "                \n",
    "    return pd.DataFrame(valores, columns=['A','B','C']), pd.DataFrame(uns, columns = ['A', 'B', 'C'])\n",
    "\n",
    "# matriz_valores, matriz_uns = tres_fatores([[1,2],[4,16], [2,8]])"
   ]
  },
  {
   "cell_type": "code",
   "execution_count": 8,
   "metadata": {},
   "outputs": [],
   "source": [
    "def quatro_fatores(lista_fatores):\n",
    "    #4 fatores\n",
    "\n",
    "    fatorA = lista_fatores[0]\n",
    "    fatorB = lista_fatores[1]\n",
    "    fatorC = lista_fatores[2]\n",
    "    fatorD = lista_fatores[3]\n",
    "\n",
    "    valores = []\n",
    "    for a in fatorA:\n",
    "        for b in fatorB:\n",
    "            for c in fatorC:\n",
    "                for d in fatorD:\n",
    "                    valores.append([a,b,c,d])\n",
    "                    \n",
    "    uns = []\n",
    "    for a in fatorA:\n",
    "        a0 = um_menos_um(a, max(fatorA))\n",
    "        for b in fatorB:\n",
    "            b0 = um_menos_um(b, max(fatorB))\n",
    "            for c in fatorC:\n",
    "                c0 = um_menos_um(c, max(fatorC))\n",
    "                for d in fatorD:\n",
    "                    d0 = um_menos_um(d, max(fatorD))\n",
    "                    uns.append([a0,b0,c0,d0])\n",
    "    \n",
    "    return pd.DataFrame(valores, columns=['A','B','C','D']), pd.DataFrame(uns, columns=['A','B','C','D'])\n",
    "\n",
    "# matriz_valores, matriz_uns = quatro_fatores([[1,2],[4,16],[2,8],[19,1]])"
   ]
  },
  {
   "cell_type": "code",
   "execution_count": 9,
   "metadata": {},
   "outputs": [],
   "source": [
    "def recebe_y(matriz, nomes_fatores):\n",
    "    ys = []\n",
    "    for i, r in matriz.iterrows():\n",
    "        print('\\33[94mQual o valor de Y para os seguintes valores: ')\n",
    "        for nome in nomes_fatores:\n",
    "            print('\\33[93m{0} = {1} '.format(nome,r[nome]), end='; ')    \n",
    "        y = int(input('\\33[95mY : '))\n",
    "        ys.append(y)\n",
    "    return ys"
   ]
  },
  {
   "cell_type": "code",
   "execution_count": 10,
   "metadata": {},
   "outputs": [],
   "source": [
    "def recebe_ys(matriz, nomes_fatores):\n",
    "    ys = []\n",
    "    for i, r in matriz.iterrows():\n",
    "        print('\\33[94mQuais os 3 valores de Y (y0,y1,y2) para os seguinte experimento: ')\n",
    "        for nome in nomes_fatores:\n",
    "            print('\\33[93m{0} = {1} '.format(nome,r[nome]), end='; ')    \n",
    "        y = int(input('\\33[95mY : '))\n",
    "        y = y.strip('[').strip(']').strip('(').strip(')').split(',')\n",
    "        y = (int(y[0]), int(y[1]), int(y[2]))\n",
    "        ys.append(y)\n",
    "    return ys"
   ]
  },
  {
   "cell_type": "code",
   "execution_count": 11,
   "metadata": {},
   "outputs": [],
   "source": [
    "def importancias(lista, nomes_fatores):\n",
    "    print('\\33[92mO desempenho médio é: {0} MIPS'.format(lista[0]))\n",
    "    indice = 1\n",
    "    for nome in nomes_fatores:\n",
    "        print('\\33[92mO efeito do fator {0} é: {1} MIPS'.format(nome, lista[indice]))\n",
    "        indice+=1\n",
    "    comb = anagramas(nomes_fatores,len(nomes_fatores))\n",
    "    for co in comb:\n",
    "        print('\\33[92mO a interação entre {0} contribuí com: {1} MIPS'.format(co, lista[indice]))\n",
    "# importancias([40,20,10,5], ['A', 'B'])"
   ]
  },
  {
   "cell_type": "code",
   "execution_count": 12,
   "metadata": {},
   "outputs": [],
   "source": [
    "def sst(q, num_fatores, e=0):\n",
    "    porcoes = q[1:]\n",
    "    partes = []\n",
    "    soma = 0 + e\n",
    "    doisk = 2**num_fatores\n",
    "    for q in porcoes:\n",
    "        soma += doisk*q*q\n",
    "        partes.append(doisk*q*q)\n",
    "    return soma,partes"
   ]
  },
  {
   "cell_type": "code",
   "execution_count": 13,
   "metadata": {},
   "outputs": [],
   "source": [
    "def valor_porcentagens(ssx, sst):\n",
    "    return (ssx*100)/sst"
   ]
  },
  {
   "cell_type": "code",
   "execution_count": 14,
   "metadata": {},
   "outputs": [],
   "source": [
    "def teto_chao (a):\n",
    "    decimal = a%int(a)\n",
    "    if decimal >= 0.5:\n",
    "        return (m.ceil(a))\n",
    "    else:\n",
    "        return (m.floor(a))"
   ]
  },
  {
   "cell_type": "code",
   "execution_count": 15,
   "metadata": {},
   "outputs": [],
   "source": [
    "def calcula_porcentagens(q, num_fatores):\n",
    "    ssts = sst(q,num_fatores)\n",
    "    p = []\n",
    "\n",
    "    for each in ssts[1]:\n",
    "        aux = teto_chao((each*100)/ssts[0])\n",
    "        p.append(aux)\n",
    "\n",
    "    return p"
   ]
  },
  {
   "cell_type": "code",
   "execution_count": 16,
   "metadata": {},
   "outputs": [],
   "source": [
    "def calcula_porcentagens_erro(q, num_fatores, e):\n",
    "    ssts = sst(q,num_fatores)+e\n",
    "    p = []\n",
    "\n",
    "    for each in ssts[1]:\n",
    "        aux = teto_chao((each*100)/ssts[0])\n",
    "        p.append(aux)\n",
    "\n",
    "    return p"
   ]
  },
  {
   "cell_type": "code",
   "execution_count": 17,
   "metadata": {},
   "outputs": [],
   "source": [
    "def imprime_porcentagens(porcentags, nomes_fatores):\n",
    "    print('\\33[92mA porcentagem de relevância de cada fator é:')\n",
    "    indice = 0\n",
    "    for nome in nomes_fatores:\n",
    "        print('\\33[92m- Fator {0} : {1}%'.format(nome, porcentags[indice]))\n",
    "        indice+=1\n",
    "    comb = anagramas(nomes_fatores,len(nomes_fatores))\n",
    "    for co in comb:\n",
    "        print('\\33[92m- Combinação {0} : {1}%'.format(co, porcentags[indice]))"
   ]
  },
  {
   "cell_type": "code",
   "execution_count": 18,
   "metadata": {},
   "outputs": [],
   "source": [
    "def calcula_porcentagens_erro(q, num_fatores, e):\n",
    "    ssts = sst(q,num_fatores,e)\n",
    "    p = []\n",
    "\n",
    "    for each in ssts[1]:\n",
    "        aux = teto_chao((each*100)/ssts[0])\n",
    "        p.append(aux)\n",
    "\n",
    "    return p"
   ]
  },
  {
   "cell_type": "code",
   "execution_count": 19,
   "metadata": {},
   "outputs": [],
   "source": [
    "def erro(lista, num):\n",
    "    valores = []\n",
    "    for elemento in lista:\n",
    "        valores.append(elemento-num)\n",
    "    return valores"
   ]
  },
  {
   "cell_type": "code",
   "execution_count": 20,
   "metadata": {},
   "outputs": [],
   "source": [
    "def calcula_erros(obtido, esperados):\n",
    "    i = 0\n",
    "    erros = []\n",
    "    for conjunto in obtido:\n",
    "        erros.append(erro(conjunto,esperados[i]))\n",
    "        i+=1\n",
    "    return erros"
   ]
  },
  {
   "cell_type": "code",
   "execution_count": 21,
   "metadata": {},
   "outputs": [],
   "source": [
    "def sse(erros):\n",
    "    soma = 0\n",
    "    for l in erros:\n",
    "        for c in l:\n",
    "            soma += c**2\n",
    "    return soma"
   ]
  },
  {
   "cell_type": "code",
   "execution_count": 22,
   "metadata": {},
   "outputs": [],
   "source": [
    "def recebe_ys(matriz, nomes_fatores):\n",
    "    ys = []\n",
    "    esperado = []\n",
    "    for i, r in matriz.iterrows():\n",
    "       \n",
    "        print('\\33[94mQuais os 3 valores de Y (y0,y1,y2) para os seguinte experimento: ')\n",
    "        for nome in nomes_fatores:\n",
    "            print('\\33[93m{0} = {1} '.format(nome,r[nome]), end='; ')    \n",
    "        y = input('\\33[95mY : ')\n",
    "        y = y.strip('[').strip(']').strip('(').strip(')').split(',')\n",
    "        y = (int(y[0]), int(y[1]), int(y[2]))\n",
    "        ys.append(y)\n",
    "        print('\\33[94mQual era o Y esperado para esse experimento: ')\n",
    "        y = int(input('\\33[95mY : '))\n",
    "        esperado.append(y)\n",
    "    return ys, esperado"
   ]
  },
  {
   "cell_type": "code",
   "execution_count": 23,
   "metadata": {},
   "outputs": [],
   "source": [
    "def aplica_media_y(lista_ys):\n",
    "    medias = []\n",
    "    for ys in lista_ys:\n",
    "        medias.append(sum(ys)/len(ys))\n",
    "    return medias"
   ]
  },
  {
   "cell_type": "code",
   "execution_count": null,
   "metadata": {},
   "outputs": [],
   "source": []
  }
 ],
 "metadata": {
  "kernelspec": {
   "display_name": "Python 3",
   "language": "python",
   "name": "python3"
  },
  "language_info": {
   "codemirror_mode": {
    "name": "ipython",
    "version": 3
   },
   "file_extension": ".py",
   "mimetype": "text/x-python",
   "name": "python",
   "nbconvert_exporter": "python",
   "pygments_lexer": "ipython3",
   "version": "3.7.3"
  }
 },
 "nbformat": 4,
 "nbformat_minor": 2
}
